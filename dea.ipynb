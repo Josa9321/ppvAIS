{
 "cells": [
  {
   "cell_type": "markdown",
   "id": "37c85bc6-e12c-4d9d-a477-160c605d3aa0",
   "metadata": {},
   "source": [
    "# Apply DEA models"
   ]
  },
  {
   "cell_type": "code",
   "execution_count": 1,
   "id": "647a5bd2-05a2-402d-9780-c6d7bd612352",
   "metadata": {
    "tags": []
   },
   "outputs": [],
   "source": [
    "import numpy as np\n",
    "import pandas as pd\n",
    "from datetime import datetime\n",
    "\n",
    "import src.pyoDEA as pyoDEA"
   ]
  },
  {
   "cell_type": "code",
   "execution_count": 2,
   "id": "eab829c0-1bec-4fe4-b434-4b962104961c",
   "metadata": {
    "tags": []
   },
   "outputs": [],
   "source": [
    "x = [\n",
    "    [41.00, 25.00, 15.00, 45.00, 18.00, 52.00, 32.00, 55.00],\n",
    "]\n",
    "y = [\n",
    "    [51.04, 43.19, 13.50, 71.89, 36.76, 78.67, 65.34, 98.90],\n",
    "]\n",
    "q = [\n",
    "    [51.04, 40.55, 13.50, 75.00, 31.36, 76.34, 47.47, 74.38],\n",
    "]"
   ]
  },
  {
   "cell_type": "code",
   "execution_count": 3,
   "id": "4fa3ea5e-4ba4-4477-97fc-d7ba0c604185",
   "metadata": {
    "tags": []
   },
   "outputs": [
    {
     "data": {
      "text/html": [
       "<div>\n",
       "<style scoped>\n",
       "    .dataframe tbody tr th:only-of-type {\n",
       "        vertical-align: middle;\n",
       "    }\n",
       "\n",
       "    .dataframe tbody tr th {\n",
       "        vertical-align: top;\n",
       "    }\n",
       "\n",
       "    .dataframe thead th {\n",
       "        text-align: right;\n",
       "    }\n",
       "</style>\n",
       "<table border=\"1\" class=\"dataframe\">\n",
       "  <thead>\n",
       "    <tr style=\"text-align: right;\">\n",
       "      <th></th>\n",
       "      <th>Input 1</th>\n",
       "      <th>Efficiency Input</th>\n",
       "      <th>Resources saving of Input 1</th>\n",
       "    </tr>\n",
       "  </thead>\n",
       "  <tbody>\n",
       "    <tr>\n",
       "      <th>0</th>\n",
       "      <td>41.0</td>\n",
       "      <td>0.609570</td>\n",
       "      <td>1.600762e+01</td>\n",
       "    </tr>\n",
       "    <tr>\n",
       "      <th>1</th>\n",
       "      <td>25.0</td>\n",
       "      <td>0.845941</td>\n",
       "      <td>3.851469e+00</td>\n",
       "    </tr>\n",
       "    <tr>\n",
       "      <th>2</th>\n",
       "      <td>15.0</td>\n",
       "      <td>0.440696</td>\n",
       "      <td>8.389554e+00</td>\n",
       "    </tr>\n",
       "    <tr>\n",
       "      <th>3</th>\n",
       "      <td>45.0</td>\n",
       "      <td>0.782263</td>\n",
       "      <td>9.798150e+00</td>\n",
       "    </tr>\n",
       "    <tr>\n",
       "      <th>4</th>\n",
       "      <td>18.0</td>\n",
       "      <td>1.000000</td>\n",
       "      <td>3.552714e-15</td>\n",
       "    </tr>\n",
       "    <tr>\n",
       "      <th>5</th>\n",
       "      <td>52.0</td>\n",
       "      <td>0.740803</td>\n",
       "      <td>1.347824e+01</td>\n",
       "    </tr>\n",
       "    <tr>\n",
       "      <th>6</th>\n",
       "      <td>32.0</td>\n",
       "      <td>0.999830</td>\n",
       "      <td>5.440696e-03</td>\n",
       "    </tr>\n",
       "    <tr>\n",
       "      <th>7</th>\n",
       "      <td>55.0</td>\n",
       "      <td>0.880503</td>\n",
       "      <td>6.572361e+00</td>\n",
       "    </tr>\n",
       "  </tbody>\n",
       "</table>\n",
       "</div>"
      ],
      "text/plain": [
       "   Input 1  Efficiency Input  Resources saving of Input 1\n",
       "0     41.0          0.609570                 1.600762e+01\n",
       "1     25.0          0.845941                 3.851469e+00\n",
       "2     15.0          0.440696                 8.389554e+00\n",
       "3     45.0          0.782263                 9.798150e+00\n",
       "4     18.0          1.000000                 3.552714e-15\n",
       "5     52.0          0.740803                 1.347824e+01\n",
       "6     32.0          0.999830                 5.440696e-03\n",
       "7     55.0          0.880503                 6.572361e+00"
      ]
     },
     "execution_count": 3,
     "metadata": {},
     "output_type": "execute_result"
    }
   ],
   "source": [
    "pyoDEA.efficiency_inputs_report(x, y, goals = [], is_VRS = False, is_tradeoff = False)"
   ]
  },
  {
   "cell_type": "code",
   "execution_count": 4,
   "id": "452ad2d4-fc9d-4c48-bd82-e9d9b279d768",
   "metadata": {
    "tags": []
   },
   "outputs": [
    {
     "data": {
      "text/html": [
       "<div>\n",
       "<style scoped>\n",
       "    .dataframe tbody tr th:only-of-type {\n",
       "        vertical-align: middle;\n",
       "    }\n",
       "\n",
       "    .dataframe tbody tr th {\n",
       "        vertical-align: top;\n",
       "    }\n",
       "\n",
       "    .dataframe thead th {\n",
       "        text-align: right;\n",
       "    }\n",
       "</style>\n",
       "<table border=\"1\" class=\"dataframe\">\n",
       "  <thead>\n",
       "    <tr style=\"text-align: right;\">\n",
       "      <th></th>\n",
       "      <th>Input 1</th>\n",
       "      <th>Efficiency Input</th>\n",
       "      <th>Resources saving of Input 1</th>\n",
       "    </tr>\n",
       "  </thead>\n",
       "  <tbody>\n",
       "    <tr>\n",
       "      <th>0</th>\n",
       "      <td>41.0</td>\n",
       "      <td>0.609570</td>\n",
       "      <td>16.007617</td>\n",
       "    </tr>\n",
       "    <tr>\n",
       "      <th>1</th>\n",
       "      <td>25.0</td>\n",
       "      <td>0.794233</td>\n",
       "      <td>5.144178</td>\n",
       "    </tr>\n",
       "    <tr>\n",
       "      <th>2</th>\n",
       "      <td>15.0</td>\n",
       "      <td>0.440696</td>\n",
       "      <td>8.389554</td>\n",
       "    </tr>\n",
       "    <tr>\n",
       "      <th>3</th>\n",
       "      <td>45.0</td>\n",
       "      <td>0.816104</td>\n",
       "      <td>8.275299</td>\n",
       "    </tr>\n",
       "    <tr>\n",
       "      <th>4</th>\n",
       "      <td>18.0</td>\n",
       "      <td>0.853101</td>\n",
       "      <td>2.644178</td>\n",
       "    </tr>\n",
       "    <tr>\n",
       "      <th>5</th>\n",
       "      <td>52.0</td>\n",
       "      <td>0.718862</td>\n",
       "      <td>14.619151</td>\n",
       "    </tr>\n",
       "    <tr>\n",
       "      <th>6</th>\n",
       "      <td>32.0</td>\n",
       "      <td>0.726384</td>\n",
       "      <td>8.755713</td>\n",
       "    </tr>\n",
       "    <tr>\n",
       "      <th>7</th>\n",
       "      <td>55.0</td>\n",
       "      <td>0.662202</td>\n",
       "      <td>18.578890</td>\n",
       "    </tr>\n",
       "  </tbody>\n",
       "</table>\n",
       "</div>"
      ],
      "text/plain": [
       "   Input 1  Efficiency Input  Resources saving of Input 1\n",
       "0     41.0          0.609570                    16.007617\n",
       "1     25.0          0.794233                     5.144178\n",
       "2     15.0          0.440696                     8.389554\n",
       "3     45.0          0.816104                     8.275299\n",
       "4     18.0          0.853101                     2.644178\n",
       "5     52.0          0.718862                    14.619151\n",
       "6     32.0          0.726384                     8.755713\n",
       "7     55.0          0.662202                    18.578890"
      ]
     },
     "execution_count": 4,
     "metadata": {},
     "output_type": "execute_result"
    }
   ],
   "source": [
    "pyoDEA.efficiency_inputs_report(x, y, goals = q, is_VRS = False, is_tradeoff = False)"
   ]
  },
  {
   "cell_type": "code",
   "execution_count": 5,
   "id": "9b6fbe18-b425-43a3-870e-b7f63e6907f9",
   "metadata": {
    "tags": []
   },
   "outputs": [
    {
     "data": {
      "text/plain": [
       "{'phi': array([0.48765625, 0.63538629, 0.35255713, 0.88835691, 0.68248096,\n",
       "        0.86263497, 0.58110718, 0.7946424 ]),\n",
       " 'du': {(0, 0): 0.0,\n",
       "  (0, 1): 0.0,\n",
       "  (0, 2): 0.0,\n",
       "  (0, 3): 6.639999999999992,\n",
       "  (0, 4): 0.0,\n",
       "  (0, 5): 15.268000000000004,\n",
       "  (0, 6): 0.0,\n",
       "  (0, 7): 14.876000000000003},\n",
       " 'dl': {(0, 0): 10.208,\n",
       "  (0, 1): 8.11,\n",
       "  (0, 2): 2.7,\n",
       "  (0, 3): 0.0,\n",
       "  (0, 4): 6.272,\n",
       "  (0, 5): 0.0,\n",
       "  (0, 6): 9.494,\n",
       "  (0, 7): 0.0}}"
      ]
     },
     "execution_count": 5,
     "metadata": {},
     "output_type": "execute_result"
    }
   ],
   "source": [
    "pyoDEA.DEA(x, y, goals = q, is_input_oriented = True, is_VRS = False, is_tradeoff_model = True)"
   ]
  },
  {
   "cell_type": "code",
   "execution_count": 6,
   "id": "f92b8fc0-10ed-4b32-86b1-5460e50bde80",
   "metadata": {
    "tags": []
   },
   "outputs": [],
   "source": [
    "x = [\n",
    "    [41.00, 25.00, 15.00, 45.00, 18.00, 52.00, 32.00, 55.00],\n",
    "]\n",
    "\n",
    "y = [\n",
    "    [0.99, 0.79507143, 0.77319939, 0.75986585, 0.71560186, 0.71559945, 0.70580836, 0.78661761]\n",
    "]\n",
    "\n",
    "q = [\n",
    "    [0.99, 0.98521429, 0.91959818, 0.87959755, 0.74680559,0.74679836, 0.71742508, 0.95985284]\n",
    "]"
   ]
  },
  {
   "cell_type": "code",
   "execution_count": 7,
   "id": "2c4603cc-4462-4727-b1a8-b6a05a0a0eae",
   "metadata": {
    "tags": []
   },
   "outputs": [
    {
     "data": {
      "text/plain": [
       "array([0.4684369 , 0.61697263, 1.        , 0.32758512, 0.77125628,\n",
       "       0.26697243, 0.42789437, 0.27746022])"
      ]
     },
     "execution_count": 7,
     "metadata": {},
     "output_type": "execute_result"
    }
   ],
   "source": [
    "pyoDEA.DEA(x, y, is_VRS = False)"
   ]
  },
  {
   "cell_type": "code",
   "execution_count": 8,
   "id": "5a102e67-5b59-4eeb-8dd2-b574cb8ee9a7",
   "metadata": {
    "tags": []
   },
   "outputs": [
    {
     "data": {
      "text/plain": [
       "array([0.4684369 , 0.76452281, 1.18934157, 0.37920255, 0.80488681,\n",
       "       0.27861197, 0.43493698, 0.33856474])"
      ]
     },
     "execution_count": 8,
     "metadata": {},
     "output_type": "execute_result"
    }
   ],
   "source": [
    "pyoDEA.DEA(x, y, q, is_input_oriented = True, is_VRS = False)"
   ]
  },
  {
   "cell_type": "code",
   "execution_count": 9,
   "id": "d7d06c87-b9da-4e88-b182-5c8fac2d91c9",
   "metadata": {
    "tags": []
   },
   "outputs": [
    {
     "data": {
      "text/plain": [
       "array([1.        , 1.61704278, 2.17046674, 0.61688647, 0.83333333,\n",
       "       0.28846154, 0.46875   , 0.67971956])"
      ]
     },
     "execution_count": 9,
     "metadata": {},
     "output_type": "execute_result"
    }
   ],
   "source": [
    "pyoDEA.DEA(x, y, q, is_input_oriented = True, is_VRS = True)"
   ]
  }
 ],
 "metadata": {
  "kernelspec": {
   "display_name": "Python 3 (ipykernel)",
   "language": "python",
   "name": "python3"
  },
  "language_info": {
   "codemirror_mode": {
    "name": "ipython",
    "version": 3
   },
   "file_extension": ".py",
   "mimetype": "text/x-python",
   "name": "python",
   "nbconvert_exporter": "python",
   "pygments_lexer": "ipython3",
   "version": "3.11.5"
  }
 },
 "nbformat": 4,
 "nbformat_minor": 5
}
